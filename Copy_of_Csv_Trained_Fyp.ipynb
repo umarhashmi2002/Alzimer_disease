{
  "nbformat": 4,
  "nbformat_minor": 0,
  "metadata": {
    "colab": {
      "provenance": [],
      "gpuType": "T4",
      "mount_file_id": "1hx9lVS9GJPYEdNT_13oC32MrDz0lOamN",
      "authorship_tag": "ABX9TyOWNbY5o866XA8GyD6gTdsi",
      "include_colab_link": true
    },
    "kernelspec": {
      "name": "python3",
      "display_name": "Python 3"
    },
    "language_info": {
      "name": "python"
    },
    "widgets": {
      "application/vnd.jupyter.widget-state+json": {
        "cbfd15f1a25b4921b9c20a95e333c62f": {
          "model_module": "@jupyter-widgets/controls",
          "model_name": "HBoxModel",
          "model_module_version": "1.5.0",
          "state": {
            "_dom_classes": [],
            "_model_module": "@jupyter-widgets/controls",
            "_model_module_version": "1.5.0",
            "_model_name": "HBoxModel",
            "_view_count": null,
            "_view_module": "@jupyter-widgets/controls",
            "_view_module_version": "1.5.0",
            "_view_name": "HBoxView",
            "box_style": "",
            "children": [
              "IPY_MODEL_0f8ed109e697407aa1d709cb50cf5b9b",
              "IPY_MODEL_a1e6c5e18b304d3d9736cbfde5815555",
              "IPY_MODEL_f31fa58fb8d440de8a1bfa5d67a1a858"
            ],
            "layout": "IPY_MODEL_935da047e5724faf98c7f68dc9979441"
          }
        },
        "0f8ed109e697407aa1d709cb50cf5b9b": {
          "model_module": "@jupyter-widgets/controls",
          "model_name": "HTMLModel",
          "model_module_version": "1.5.0",
          "state": {
            "_dom_classes": [],
            "_model_module": "@jupyter-widgets/controls",
            "_model_module_version": "1.5.0",
            "_model_name": "HTMLModel",
            "_view_count": null,
            "_view_module": "@jupyter-widgets/controls",
            "_view_module_version": "1.5.0",
            "_view_name": "HTMLView",
            "description": "",
            "description_tooltip": null,
            "layout": "IPY_MODEL_3b60914648644bca878d9213861a7f23",
            "placeholder": "​",
            "style": "IPY_MODEL_d5ff4654bcdd45479522a1589a552cb9",
            "value": "Map: 100%"
          }
        },
        "a1e6c5e18b304d3d9736cbfde5815555": {
          "model_module": "@jupyter-widgets/controls",
          "model_name": "FloatProgressModel",
          "model_module_version": "1.5.0",
          "state": {
            "_dom_classes": [],
            "_model_module": "@jupyter-widgets/controls",
            "_model_module_version": "1.5.0",
            "_model_name": "FloatProgressModel",
            "_view_count": null,
            "_view_module": "@jupyter-widgets/controls",
            "_view_module_version": "1.5.0",
            "_view_name": "ProgressView",
            "bar_style": "success",
            "description": "",
            "description_tooltip": null,
            "layout": "IPY_MODEL_3b823435e7f54222a78f63d3ff232a79",
            "max": 860,
            "min": 0,
            "orientation": "horizontal",
            "style": "IPY_MODEL_8cd3e44df59a414ca5e787049fe8506d",
            "value": 860
          }
        },
        "f31fa58fb8d440de8a1bfa5d67a1a858": {
          "model_module": "@jupyter-widgets/controls",
          "model_name": "HTMLModel",
          "model_module_version": "1.5.0",
          "state": {
            "_dom_classes": [],
            "_model_module": "@jupyter-widgets/controls",
            "_model_module_version": "1.5.0",
            "_model_name": "HTMLModel",
            "_view_count": null,
            "_view_module": "@jupyter-widgets/controls",
            "_view_module_version": "1.5.0",
            "_view_name": "HTMLView",
            "description": "",
            "description_tooltip": null,
            "layout": "IPY_MODEL_41ea1ca7d3fc4867b9d1a0feac987fd8",
            "placeholder": "​",
            "style": "IPY_MODEL_f7ddf7bbbcd9409b806a612ff3c0b2cb",
            "value": " 860/860 [00:00&lt;00:00, 5057.80 examples/s]"
          }
        },
        "935da047e5724faf98c7f68dc9979441": {
          "model_module": "@jupyter-widgets/base",
          "model_name": "LayoutModel",
          "model_module_version": "1.2.0",
          "state": {
            "_model_module": "@jupyter-widgets/base",
            "_model_module_version": "1.2.0",
            "_model_name": "LayoutModel",
            "_view_count": null,
            "_view_module": "@jupyter-widgets/base",
            "_view_module_version": "1.2.0",
            "_view_name": "LayoutView",
            "align_content": null,
            "align_items": null,
            "align_self": null,
            "border": null,
            "bottom": null,
            "display": null,
            "flex": null,
            "flex_flow": null,
            "grid_area": null,
            "grid_auto_columns": null,
            "grid_auto_flow": null,
            "grid_auto_rows": null,
            "grid_column": null,
            "grid_gap": null,
            "grid_row": null,
            "grid_template_areas": null,
            "grid_template_columns": null,
            "grid_template_rows": null,
            "height": null,
            "justify_content": null,
            "justify_items": null,
            "left": null,
            "margin": null,
            "max_height": null,
            "max_width": null,
            "min_height": null,
            "min_width": null,
            "object_fit": null,
            "object_position": null,
            "order": null,
            "overflow": null,
            "overflow_x": null,
            "overflow_y": null,
            "padding": null,
            "right": null,
            "top": null,
            "visibility": null,
            "width": null
          }
        },
        "3b60914648644bca878d9213861a7f23": {
          "model_module": "@jupyter-widgets/base",
          "model_name": "LayoutModel",
          "model_module_version": "1.2.0",
          "state": {
            "_model_module": "@jupyter-widgets/base",
            "_model_module_version": "1.2.0",
            "_model_name": "LayoutModel",
            "_view_count": null,
            "_view_module": "@jupyter-widgets/base",
            "_view_module_version": "1.2.0",
            "_view_name": "LayoutView",
            "align_content": null,
            "align_items": null,
            "align_self": null,
            "border": null,
            "bottom": null,
            "display": null,
            "flex": null,
            "flex_flow": null,
            "grid_area": null,
            "grid_auto_columns": null,
            "grid_auto_flow": null,
            "grid_auto_rows": null,
            "grid_column": null,
            "grid_gap": null,
            "grid_row": null,
            "grid_template_areas": null,
            "grid_template_columns": null,
            "grid_template_rows": null,
            "height": null,
            "justify_content": null,
            "justify_items": null,
            "left": null,
            "margin": null,
            "max_height": null,
            "max_width": null,
            "min_height": null,
            "min_width": null,
            "object_fit": null,
            "object_position": null,
            "order": null,
            "overflow": null,
            "overflow_x": null,
            "overflow_y": null,
            "padding": null,
            "right": null,
            "top": null,
            "visibility": null,
            "width": null
          }
        },
        "d5ff4654bcdd45479522a1589a552cb9": {
          "model_module": "@jupyter-widgets/controls",
          "model_name": "DescriptionStyleModel",
          "model_module_version": "1.5.0",
          "state": {
            "_model_module": "@jupyter-widgets/controls",
            "_model_module_version": "1.5.0",
            "_model_name": "DescriptionStyleModel",
            "_view_count": null,
            "_view_module": "@jupyter-widgets/base",
            "_view_module_version": "1.2.0",
            "_view_name": "StyleView",
            "description_width": ""
          }
        },
        "3b823435e7f54222a78f63d3ff232a79": {
          "model_module": "@jupyter-widgets/base",
          "model_name": "LayoutModel",
          "model_module_version": "1.2.0",
          "state": {
            "_model_module": "@jupyter-widgets/base",
            "_model_module_version": "1.2.0",
            "_model_name": "LayoutModel",
            "_view_count": null,
            "_view_module": "@jupyter-widgets/base",
            "_view_module_version": "1.2.0",
            "_view_name": "LayoutView",
            "align_content": null,
            "align_items": null,
            "align_self": null,
            "border": null,
            "bottom": null,
            "display": null,
            "flex": null,
            "flex_flow": null,
            "grid_area": null,
            "grid_auto_columns": null,
            "grid_auto_flow": null,
            "grid_auto_rows": null,
            "grid_column": null,
            "grid_gap": null,
            "grid_row": null,
            "grid_template_areas": null,
            "grid_template_columns": null,
            "grid_template_rows": null,
            "height": null,
            "justify_content": null,
            "justify_items": null,
            "left": null,
            "margin": null,
            "max_height": null,
            "max_width": null,
            "min_height": null,
            "min_width": null,
            "object_fit": null,
            "object_position": null,
            "order": null,
            "overflow": null,
            "overflow_x": null,
            "overflow_y": null,
            "padding": null,
            "right": null,
            "top": null,
            "visibility": null,
            "width": null
          }
        },
        "8cd3e44df59a414ca5e787049fe8506d": {
          "model_module": "@jupyter-widgets/controls",
          "model_name": "ProgressStyleModel",
          "model_module_version": "1.5.0",
          "state": {
            "_model_module": "@jupyter-widgets/controls",
            "_model_module_version": "1.5.0",
            "_model_name": "ProgressStyleModel",
            "_view_count": null,
            "_view_module": "@jupyter-widgets/base",
            "_view_module_version": "1.2.0",
            "_view_name": "StyleView",
            "bar_color": null,
            "description_width": ""
          }
        },
        "41ea1ca7d3fc4867b9d1a0feac987fd8": {
          "model_module": "@jupyter-widgets/base",
          "model_name": "LayoutModel",
          "model_module_version": "1.2.0",
          "state": {
            "_model_module": "@jupyter-widgets/base",
            "_model_module_version": "1.2.0",
            "_model_name": "LayoutModel",
            "_view_count": null,
            "_view_module": "@jupyter-widgets/base",
            "_view_module_version": "1.2.0",
            "_view_name": "LayoutView",
            "align_content": null,
            "align_items": null,
            "align_self": null,
            "border": null,
            "bottom": null,
            "display": null,
            "flex": null,
            "flex_flow": null,
            "grid_area": null,
            "grid_auto_columns": null,
            "grid_auto_flow": null,
            "grid_auto_rows": null,
            "grid_column": null,
            "grid_gap": null,
            "grid_row": null,
            "grid_template_areas": null,
            "grid_template_columns": null,
            "grid_template_rows": null,
            "height": null,
            "justify_content": null,
            "justify_items": null,
            "left": null,
            "margin": null,
            "max_height": null,
            "max_width": null,
            "min_height": null,
            "min_width": null,
            "object_fit": null,
            "object_position": null,
            "order": null,
            "overflow": null,
            "overflow_x": null,
            "overflow_y": null,
            "padding": null,
            "right": null,
            "top": null,
            "visibility": null,
            "width": null
          }
        },
        "f7ddf7bbbcd9409b806a612ff3c0b2cb": {
          "model_module": "@jupyter-widgets/controls",
          "model_name": "DescriptionStyleModel",
          "model_module_version": "1.5.0",
          "state": {
            "_model_module": "@jupyter-widgets/controls",
            "_model_module_version": "1.5.0",
            "_model_name": "DescriptionStyleModel",
            "_view_count": null,
            "_view_module": "@jupyter-widgets/base",
            "_view_module_version": "1.2.0",
            "_view_name": "StyleView",
            "description_width": ""
          }
        },
        "475a4ed39b034ef98003876b357a5959": {
          "model_module": "@jupyter-widgets/controls",
          "model_name": "HBoxModel",
          "model_module_version": "1.5.0",
          "state": {
            "_dom_classes": [],
            "_model_module": "@jupyter-widgets/controls",
            "_model_module_version": "1.5.0",
            "_model_name": "HBoxModel",
            "_view_count": null,
            "_view_module": "@jupyter-widgets/controls",
            "_view_module_version": "1.5.0",
            "_view_name": "HBoxView",
            "box_style": "",
            "children": [
              "IPY_MODEL_ab2e2b59a27d4f62931d23518de84653",
              "IPY_MODEL_e95823a59d4b4c1dae40db7ff55fb256",
              "IPY_MODEL_072f57ac2cf54365b9937bee6fb7eb0c"
            ],
            "layout": "IPY_MODEL_d5c6800d2bb34b4a8da8334dc5bd9d06"
          }
        },
        "ab2e2b59a27d4f62931d23518de84653": {
          "model_module": "@jupyter-widgets/controls",
          "model_name": "HTMLModel",
          "model_module_version": "1.5.0",
          "state": {
            "_dom_classes": [],
            "_model_module": "@jupyter-widgets/controls",
            "_model_module_version": "1.5.0",
            "_model_name": "HTMLModel",
            "_view_count": null,
            "_view_module": "@jupyter-widgets/controls",
            "_view_module_version": "1.5.0",
            "_view_name": "HTMLView",
            "description": "",
            "description_tooltip": null,
            "layout": "IPY_MODEL_4d2108d0ed81494b8489e731f85b1cc8",
            "placeholder": "​",
            "style": "IPY_MODEL_e6dcc17b73cc4a198d4909a8bad77b92",
            "value": "Map: 100%"
          }
        },
        "e95823a59d4b4c1dae40db7ff55fb256": {
          "model_module": "@jupyter-widgets/controls",
          "model_name": "FloatProgressModel",
          "model_module_version": "1.5.0",
          "state": {
            "_dom_classes": [],
            "_model_module": "@jupyter-widgets/controls",
            "_model_module_version": "1.5.0",
            "_model_name": "FloatProgressModel",
            "_view_count": null,
            "_view_module": "@jupyter-widgets/controls",
            "_view_module_version": "1.5.0",
            "_view_name": "ProgressView",
            "bar_style": "success",
            "description": "",
            "description_tooltip": null,
            "layout": "IPY_MODEL_b063a60e07104c42a87c377dcfa02f01",
            "max": 215,
            "min": 0,
            "orientation": "horizontal",
            "style": "IPY_MODEL_bf0cfb0843fd4e03944e2e10fbc57714",
            "value": 215
          }
        },
        "072f57ac2cf54365b9937bee6fb7eb0c": {
          "model_module": "@jupyter-widgets/controls",
          "model_name": "HTMLModel",
          "model_module_version": "1.5.0",
          "state": {
            "_dom_classes": [],
            "_model_module": "@jupyter-widgets/controls",
            "_model_module_version": "1.5.0",
            "_model_name": "HTMLModel",
            "_view_count": null,
            "_view_module": "@jupyter-widgets/controls",
            "_view_module_version": "1.5.0",
            "_view_name": "HTMLView",
            "description": "",
            "description_tooltip": null,
            "layout": "IPY_MODEL_dffb755f003b413eb8ffe4af97b22d7e",
            "placeholder": "​",
            "style": "IPY_MODEL_320bc051296640ce966e6000d16eb1ad",
            "value": " 215/215 [00:00&lt;00:00, 2071.72 examples/s]"
          }
        },
        "d5c6800d2bb34b4a8da8334dc5bd9d06": {
          "model_module": "@jupyter-widgets/base",
          "model_name": "LayoutModel",
          "model_module_version": "1.2.0",
          "state": {
            "_model_module": "@jupyter-widgets/base",
            "_model_module_version": "1.2.0",
            "_model_name": "LayoutModel",
            "_view_count": null,
            "_view_module": "@jupyter-widgets/base",
            "_view_module_version": "1.2.0",
            "_view_name": "LayoutView",
            "align_content": null,
            "align_items": null,
            "align_self": null,
            "border": null,
            "bottom": null,
            "display": null,
            "flex": null,
            "flex_flow": null,
            "grid_area": null,
            "grid_auto_columns": null,
            "grid_auto_flow": null,
            "grid_auto_rows": null,
            "grid_column": null,
            "grid_gap": null,
            "grid_row": null,
            "grid_template_areas": null,
            "grid_template_columns": null,
            "grid_template_rows": null,
            "height": null,
            "justify_content": null,
            "justify_items": null,
            "left": null,
            "margin": null,
            "max_height": null,
            "max_width": null,
            "min_height": null,
            "min_width": null,
            "object_fit": null,
            "object_position": null,
            "order": null,
            "overflow": null,
            "overflow_x": null,
            "overflow_y": null,
            "padding": null,
            "right": null,
            "top": null,
            "visibility": null,
            "width": null
          }
        },
        "4d2108d0ed81494b8489e731f85b1cc8": {
          "model_module": "@jupyter-widgets/base",
          "model_name": "LayoutModel",
          "model_module_version": "1.2.0",
          "state": {
            "_model_module": "@jupyter-widgets/base",
            "_model_module_version": "1.2.0",
            "_model_name": "LayoutModel",
            "_view_count": null,
            "_view_module": "@jupyter-widgets/base",
            "_view_module_version": "1.2.0",
            "_view_name": "LayoutView",
            "align_content": null,
            "align_items": null,
            "align_self": null,
            "border": null,
            "bottom": null,
            "display": null,
            "flex": null,
            "flex_flow": null,
            "grid_area": null,
            "grid_auto_columns": null,
            "grid_auto_flow": null,
            "grid_auto_rows": null,
            "grid_column": null,
            "grid_gap": null,
            "grid_row": null,
            "grid_template_areas": null,
            "grid_template_columns": null,
            "grid_template_rows": null,
            "height": null,
            "justify_content": null,
            "justify_items": null,
            "left": null,
            "margin": null,
            "max_height": null,
            "max_width": null,
            "min_height": null,
            "min_width": null,
            "object_fit": null,
            "object_position": null,
            "order": null,
            "overflow": null,
            "overflow_x": null,
            "overflow_y": null,
            "padding": null,
            "right": null,
            "top": null,
            "visibility": null,
            "width": null
          }
        },
        "e6dcc17b73cc4a198d4909a8bad77b92": {
          "model_module": "@jupyter-widgets/controls",
          "model_name": "DescriptionStyleModel",
          "model_module_version": "1.5.0",
          "state": {
            "_model_module": "@jupyter-widgets/controls",
            "_model_module_version": "1.5.0",
            "_model_name": "DescriptionStyleModel",
            "_view_count": null,
            "_view_module": "@jupyter-widgets/base",
            "_view_module_version": "1.2.0",
            "_view_name": "StyleView",
            "description_width": ""
          }
        },
        "b063a60e07104c42a87c377dcfa02f01": {
          "model_module": "@jupyter-widgets/base",
          "model_name": "LayoutModel",
          "model_module_version": "1.2.0",
          "state": {
            "_model_module": "@jupyter-widgets/base",
            "_model_module_version": "1.2.0",
            "_model_name": "LayoutModel",
            "_view_count": null,
            "_view_module": "@jupyter-widgets/base",
            "_view_module_version": "1.2.0",
            "_view_name": "LayoutView",
            "align_content": null,
            "align_items": null,
            "align_self": null,
            "border": null,
            "bottom": null,
            "display": null,
            "flex": null,
            "flex_flow": null,
            "grid_area": null,
            "grid_auto_columns": null,
            "grid_auto_flow": null,
            "grid_auto_rows": null,
            "grid_column": null,
            "grid_gap": null,
            "grid_row": null,
            "grid_template_areas": null,
            "grid_template_columns": null,
            "grid_template_rows": null,
            "height": null,
            "justify_content": null,
            "justify_items": null,
            "left": null,
            "margin": null,
            "max_height": null,
            "max_width": null,
            "min_height": null,
            "min_width": null,
            "object_fit": null,
            "object_position": null,
            "order": null,
            "overflow": null,
            "overflow_x": null,
            "overflow_y": null,
            "padding": null,
            "right": null,
            "top": null,
            "visibility": null,
            "width": null
          }
        },
        "bf0cfb0843fd4e03944e2e10fbc57714": {
          "model_module": "@jupyter-widgets/controls",
          "model_name": "ProgressStyleModel",
          "model_module_version": "1.5.0",
          "state": {
            "_model_module": "@jupyter-widgets/controls",
            "_model_module_version": "1.5.0",
            "_model_name": "ProgressStyleModel",
            "_view_count": null,
            "_view_module": "@jupyter-widgets/base",
            "_view_module_version": "1.2.0",
            "_view_name": "StyleView",
            "bar_color": null,
            "description_width": ""
          }
        },
        "dffb755f003b413eb8ffe4af97b22d7e": {
          "model_module": "@jupyter-widgets/base",
          "model_name": "LayoutModel",
          "model_module_version": "1.2.0",
          "state": {
            "_model_module": "@jupyter-widgets/base",
            "_model_module_version": "1.2.0",
            "_model_name": "LayoutModel",
            "_view_count": null,
            "_view_module": "@jupyter-widgets/base",
            "_view_module_version": "1.2.0",
            "_view_name": "LayoutView",
            "align_content": null,
            "align_items": null,
            "align_self": null,
            "border": null,
            "bottom": null,
            "display": null,
            "flex": null,
            "flex_flow": null,
            "grid_area": null,
            "grid_auto_columns": null,
            "grid_auto_flow": null,
            "grid_auto_rows": null,
            "grid_column": null,
            "grid_gap": null,
            "grid_row": null,
            "grid_template_areas": null,
            "grid_template_columns": null,
            "grid_template_rows": null,
            "height": null,
            "justify_content": null,
            "justify_items": null,
            "left": null,
            "margin": null,
            "max_height": null,
            "max_width": null,
            "min_height": null,
            "min_width": null,
            "object_fit": null,
            "object_position": null,
            "order": null,
            "overflow": null,
            "overflow_x": null,
            "overflow_y": null,
            "padding": null,
            "right": null,
            "top": null,
            "visibility": null,
            "width": null
          }
        },
        "320bc051296640ce966e6000d16eb1ad": {
          "model_module": "@jupyter-widgets/controls",
          "model_name": "DescriptionStyleModel",
          "model_module_version": "1.5.0",
          "state": {
            "_model_module": "@jupyter-widgets/controls",
            "_model_module_version": "1.5.0",
            "_model_name": "DescriptionStyleModel",
            "_view_count": null,
            "_view_module": "@jupyter-widgets/base",
            "_view_module_version": "1.2.0",
            "_view_name": "StyleView",
            "description_width": ""
          }
        }
      }
    },
    "accelerator": "GPU"
  },
  "cells": [
    {
      "cell_type": "markdown",
      "metadata": {
        "id": "view-in-github",
        "colab_type": "text"
      },
      "source": [
        "<a href=\"https://colab.research.google.com/github/umarhashmi2002/Alzimer_disease/blob/main/Copy_of_Csv_Trained_Fyp.ipynb\" target=\"_parent\"><img src=\"https://colab.research.google.com/assets/colab-badge.svg\" alt=\"Open In Colab\"/></a>"
      ]
    },
    {
      "cell_type": "code",
      "execution_count": 18,
      "metadata": {
        "id": "28ryupdamT-O",
        "colab": {
          "base_uri": "https://localhost:8080/"
        },
        "outputId": "6548a547-3345-4af8-b7f3-80cbc0423178"
      },
      "outputs": [
        {
          "output_type": "stream",
          "name": "stdout",
          "text": [
            "All libraries imported successfully!\n"
          ]
        }
      ],
      "source": [
        "# Install required libraries (if not already installed on Kaggle/Colab)\n",
        "#!pip install transformers datasets evaluate --quiet\n",
        "\n",
        "import os\n",
        "import pandas as pd\n",
        "import numpy as np\n",
        "import torch\n",
        "import math\n",
        "\n",
        "from sklearn.model_selection import train_test_split\n",
        "\n",
        "# Hugging Face Transformers and Datasets\n",
        "from transformers import (\n",
        "    T5ForConditionalGeneration,\n",
        "    T5Tokenizer,\n",
        "    Trainer,\n",
        "    DataCollatorForSeq2Seq,\n",
        "    Seq2SeqTrainingArguments\n",
        ")\n",
        "!pip install transformers datasets evaluate --quiet\n",
        "from datasets import Dataset\n",
        "from transformers import TrainingArguments\n",
        "\n",
        "# To evaluate sequence generation metrics (BLEU, ROUGE), we’ll use 'evaluate'\n",
        "import evaluate\n",
        "\n",
        "print(\"All libraries imported successfully!\")\n"
      ]
    },
    {
      "cell_type": "code",
      "source": [
        "# Define the path to your CSV file\n",
        "csv_path = \"/content/ADNI1_Screening_1.5T_1_29_2024.csv\"\n",
        "# Make sure to update 'csv_path' to the correct location of your CSV file\n",
        "\n",
        "# Load the CSV into a pandas DataFrame\n",
        "df = pd.read_csv(csv_path)\n",
        "\n",
        "# Display the shape and first few rows for inspection\n",
        "print(\"DataFrame shape:\", df.shape)\n",
        "df.head()\n"
      ],
      "metadata": {
        "colab": {
          "base_uri": "https://localhost:8080/",
          "height": 487
        },
        "id": "qkqtD3u1mYIO",
        "outputId": "4d173c87-1b10-4d35-ed8f-c7464ad0c59e"
      },
      "execution_count": 19,
      "outputs": [
        {
          "output_type": "stream",
          "name": "stdout",
          "text": [
            "DataFrame shape: (1075, 12)\n"
          ]
        },
        {
          "output_type": "execute_result",
          "data": {
            "text/plain": [
              "  Image Data ID     Subject Group Sex  Age Visit Modality  \\\n",
              "0        I62666  013_S_1275   MCI   F   79    sc      MRI   \n",
              "1       I119268  121_S_1322   MCI   F   72    sc      MRI   \n",
              "2        I59697  116_S_0649   MCI   M   87    sc      MRI   \n",
              "3        I68581  099_S_0880   MCI   M   84    sc      MRI   \n",
              "4        I60760  029_S_1318   MCI   F   83    sc      MRI   \n",
              "\n",
              "                                  Description       Type    Acq Date Format  \\\n",
              "0    MPR; GradWarp; B1 Correction; N3; Scaled  Processed   2/22/2007  NiFTI   \n",
              "1                         MPR; ; N3; Scaled_2  Processed   3/02/2007  NiFTI   \n",
              "2                   MPR; GradWarp; N3; Scaled  Processed   7/24/2006  NiFTI   \n",
              "3    MPR; GradWarp; B1 Correction; N3; Scaled  Processed  10/05/2006  NiFTI   \n",
              "4  MPR-R; GradWarp; B1 Correction; N3; Scaled  Processed   2/17/2007  NiFTI   \n",
              "\n",
              "  Downloaded  \n",
              "0  1/29/2024  \n",
              "1  1/29/2024  \n",
              "2  1/29/2024  \n",
              "3  1/29/2024  \n",
              "4  1/29/2024  "
            ],
            "text/html": [
              "\n",
              "  <div id=\"df-6252025e-2fc4-4113-878f-d2c45f604991\" class=\"colab-df-container\">\n",
              "    <div>\n",
              "<style scoped>\n",
              "    .dataframe tbody tr th:only-of-type {\n",
              "        vertical-align: middle;\n",
              "    }\n",
              "\n",
              "    .dataframe tbody tr th {\n",
              "        vertical-align: top;\n",
              "    }\n",
              "\n",
              "    .dataframe thead th {\n",
              "        text-align: right;\n",
              "    }\n",
              "</style>\n",
              "<table border=\"1\" class=\"dataframe\">\n",
              "  <thead>\n",
              "    <tr style=\"text-align: right;\">\n",
              "      <th></th>\n",
              "      <th>Image Data ID</th>\n",
              "      <th>Subject</th>\n",
              "      <th>Group</th>\n",
              "      <th>Sex</th>\n",
              "      <th>Age</th>\n",
              "      <th>Visit</th>\n",
              "      <th>Modality</th>\n",
              "      <th>Description</th>\n",
              "      <th>Type</th>\n",
              "      <th>Acq Date</th>\n",
              "      <th>Format</th>\n",
              "      <th>Downloaded</th>\n",
              "    </tr>\n",
              "  </thead>\n",
              "  <tbody>\n",
              "    <tr>\n",
              "      <th>0</th>\n",
              "      <td>I62666</td>\n",
              "      <td>013_S_1275</td>\n",
              "      <td>MCI</td>\n",
              "      <td>F</td>\n",
              "      <td>79</td>\n",
              "      <td>sc</td>\n",
              "      <td>MRI</td>\n",
              "      <td>MPR; GradWarp; B1 Correction; N3; Scaled</td>\n",
              "      <td>Processed</td>\n",
              "      <td>2/22/2007</td>\n",
              "      <td>NiFTI</td>\n",
              "      <td>1/29/2024</td>\n",
              "    </tr>\n",
              "    <tr>\n",
              "      <th>1</th>\n",
              "      <td>I119268</td>\n",
              "      <td>121_S_1322</td>\n",
              "      <td>MCI</td>\n",
              "      <td>F</td>\n",
              "      <td>72</td>\n",
              "      <td>sc</td>\n",
              "      <td>MRI</td>\n",
              "      <td>MPR; ; N3; Scaled_2</td>\n",
              "      <td>Processed</td>\n",
              "      <td>3/02/2007</td>\n",
              "      <td>NiFTI</td>\n",
              "      <td>1/29/2024</td>\n",
              "    </tr>\n",
              "    <tr>\n",
              "      <th>2</th>\n",
              "      <td>I59697</td>\n",
              "      <td>116_S_0649</td>\n",
              "      <td>MCI</td>\n",
              "      <td>M</td>\n",
              "      <td>87</td>\n",
              "      <td>sc</td>\n",
              "      <td>MRI</td>\n",
              "      <td>MPR; GradWarp; N3; Scaled</td>\n",
              "      <td>Processed</td>\n",
              "      <td>7/24/2006</td>\n",
              "      <td>NiFTI</td>\n",
              "      <td>1/29/2024</td>\n",
              "    </tr>\n",
              "    <tr>\n",
              "      <th>3</th>\n",
              "      <td>I68581</td>\n",
              "      <td>099_S_0880</td>\n",
              "      <td>MCI</td>\n",
              "      <td>M</td>\n",
              "      <td>84</td>\n",
              "      <td>sc</td>\n",
              "      <td>MRI</td>\n",
              "      <td>MPR; GradWarp; B1 Correction; N3; Scaled</td>\n",
              "      <td>Processed</td>\n",
              "      <td>10/05/2006</td>\n",
              "      <td>NiFTI</td>\n",
              "      <td>1/29/2024</td>\n",
              "    </tr>\n",
              "    <tr>\n",
              "      <th>4</th>\n",
              "      <td>I60760</td>\n",
              "      <td>029_S_1318</td>\n",
              "      <td>MCI</td>\n",
              "      <td>F</td>\n",
              "      <td>83</td>\n",
              "      <td>sc</td>\n",
              "      <td>MRI</td>\n",
              "      <td>MPR-R; GradWarp; B1 Correction; N3; Scaled</td>\n",
              "      <td>Processed</td>\n",
              "      <td>2/17/2007</td>\n",
              "      <td>NiFTI</td>\n",
              "      <td>1/29/2024</td>\n",
              "    </tr>\n",
              "  </tbody>\n",
              "</table>\n",
              "</div>\n",
              "    <div class=\"colab-df-buttons\">\n",
              "\n",
              "  <div class=\"colab-df-container\">\n",
              "    <button class=\"colab-df-convert\" onclick=\"convertToInteractive('df-6252025e-2fc4-4113-878f-d2c45f604991')\"\n",
              "            title=\"Convert this dataframe to an interactive table.\"\n",
              "            style=\"display:none;\">\n",
              "\n",
              "  <svg xmlns=\"http://www.w3.org/2000/svg\" height=\"24px\" viewBox=\"0 -960 960 960\">\n",
              "    <path d=\"M120-120v-720h720v720H120Zm60-500h600v-160H180v160Zm220 220h160v-160H400v160Zm0 220h160v-160H400v160ZM180-400h160v-160H180v160Zm440 0h160v-160H620v160ZM180-180h160v-160H180v160Zm440 0h160v-160H620v160Z\"/>\n",
              "  </svg>\n",
              "    </button>\n",
              "\n",
              "  <style>\n",
              "    .colab-df-container {\n",
              "      display:flex;\n",
              "      gap: 12px;\n",
              "    }\n",
              "\n",
              "    .colab-df-convert {\n",
              "      background-color: #E8F0FE;\n",
              "      border: none;\n",
              "      border-radius: 50%;\n",
              "      cursor: pointer;\n",
              "      display: none;\n",
              "      fill: #1967D2;\n",
              "      height: 32px;\n",
              "      padding: 0 0 0 0;\n",
              "      width: 32px;\n",
              "    }\n",
              "\n",
              "    .colab-df-convert:hover {\n",
              "      background-color: #E2EBFA;\n",
              "      box-shadow: 0px 1px 2px rgba(60, 64, 67, 0.3), 0px 1px 3px 1px rgba(60, 64, 67, 0.15);\n",
              "      fill: #174EA6;\n",
              "    }\n",
              "\n",
              "    .colab-df-buttons div {\n",
              "      margin-bottom: 4px;\n",
              "    }\n",
              "\n",
              "    [theme=dark] .colab-df-convert {\n",
              "      background-color: #3B4455;\n",
              "      fill: #D2E3FC;\n",
              "    }\n",
              "\n",
              "    [theme=dark] .colab-df-convert:hover {\n",
              "      background-color: #434B5C;\n",
              "      box-shadow: 0px 1px 3px 1px rgba(0, 0, 0, 0.15);\n",
              "      filter: drop-shadow(0px 1px 2px rgba(0, 0, 0, 0.3));\n",
              "      fill: #FFFFFF;\n",
              "    }\n",
              "  </style>\n",
              "\n",
              "    <script>\n",
              "      const buttonEl =\n",
              "        document.querySelector('#df-6252025e-2fc4-4113-878f-d2c45f604991 button.colab-df-convert');\n",
              "      buttonEl.style.display =\n",
              "        google.colab.kernel.accessAllowed ? 'block' : 'none';\n",
              "\n",
              "      async function convertToInteractive(key) {\n",
              "        const element = document.querySelector('#df-6252025e-2fc4-4113-878f-d2c45f604991');\n",
              "        const dataTable =\n",
              "          await google.colab.kernel.invokeFunction('convertToInteractive',\n",
              "                                                    [key], {});\n",
              "        if (!dataTable) return;\n",
              "\n",
              "        const docLinkHtml = 'Like what you see? Visit the ' +\n",
              "          '<a target=\"_blank\" href=https://colab.research.google.com/notebooks/data_table.ipynb>data table notebook</a>'\n",
              "          + ' to learn more about interactive tables.';\n",
              "        element.innerHTML = '';\n",
              "        dataTable['output_type'] = 'display_data';\n",
              "        await google.colab.output.renderOutput(dataTable, element);\n",
              "        const docLink = document.createElement('div');\n",
              "        docLink.innerHTML = docLinkHtml;\n",
              "        element.appendChild(docLink);\n",
              "      }\n",
              "    </script>\n",
              "  </div>\n",
              "\n",
              "\n",
              "<div id=\"df-419cdbaf-b878-4776-adf8-59dd7ddeb20b\">\n",
              "  <button class=\"colab-df-quickchart\" onclick=\"quickchart('df-419cdbaf-b878-4776-adf8-59dd7ddeb20b')\"\n",
              "            title=\"Suggest charts\"\n",
              "            style=\"display:none;\">\n",
              "\n",
              "<svg xmlns=\"http://www.w3.org/2000/svg\" height=\"24px\"viewBox=\"0 0 24 24\"\n",
              "     width=\"24px\">\n",
              "    <g>\n",
              "        <path d=\"M19 3H5c-1.1 0-2 .9-2 2v14c0 1.1.9 2 2 2h14c1.1 0 2-.9 2-2V5c0-1.1-.9-2-2-2zM9 17H7v-7h2v7zm4 0h-2V7h2v10zm4 0h-2v-4h2v4z\"/>\n",
              "    </g>\n",
              "</svg>\n",
              "  </button>\n",
              "\n",
              "<style>\n",
              "  .colab-df-quickchart {\n",
              "      --bg-color: #E8F0FE;\n",
              "      --fill-color: #1967D2;\n",
              "      --hover-bg-color: #E2EBFA;\n",
              "      --hover-fill-color: #174EA6;\n",
              "      --disabled-fill-color: #AAA;\n",
              "      --disabled-bg-color: #DDD;\n",
              "  }\n",
              "\n",
              "  [theme=dark] .colab-df-quickchart {\n",
              "      --bg-color: #3B4455;\n",
              "      --fill-color: #D2E3FC;\n",
              "      --hover-bg-color: #434B5C;\n",
              "      --hover-fill-color: #FFFFFF;\n",
              "      --disabled-bg-color: #3B4455;\n",
              "      --disabled-fill-color: #666;\n",
              "  }\n",
              "\n",
              "  .colab-df-quickchart {\n",
              "    background-color: var(--bg-color);\n",
              "    border: none;\n",
              "    border-radius: 50%;\n",
              "    cursor: pointer;\n",
              "    display: none;\n",
              "    fill: var(--fill-color);\n",
              "    height: 32px;\n",
              "    padding: 0;\n",
              "    width: 32px;\n",
              "  }\n",
              "\n",
              "  .colab-df-quickchart:hover {\n",
              "    background-color: var(--hover-bg-color);\n",
              "    box-shadow: 0 1px 2px rgba(60, 64, 67, 0.3), 0 1px 3px 1px rgba(60, 64, 67, 0.15);\n",
              "    fill: var(--button-hover-fill-color);\n",
              "  }\n",
              "\n",
              "  .colab-df-quickchart-complete:disabled,\n",
              "  .colab-df-quickchart-complete:disabled:hover {\n",
              "    background-color: var(--disabled-bg-color);\n",
              "    fill: var(--disabled-fill-color);\n",
              "    box-shadow: none;\n",
              "  }\n",
              "\n",
              "  .colab-df-spinner {\n",
              "    border: 2px solid var(--fill-color);\n",
              "    border-color: transparent;\n",
              "    border-bottom-color: var(--fill-color);\n",
              "    animation:\n",
              "      spin 1s steps(1) infinite;\n",
              "  }\n",
              "\n",
              "  @keyframes spin {\n",
              "    0% {\n",
              "      border-color: transparent;\n",
              "      border-bottom-color: var(--fill-color);\n",
              "      border-left-color: var(--fill-color);\n",
              "    }\n",
              "    20% {\n",
              "      border-color: transparent;\n",
              "      border-left-color: var(--fill-color);\n",
              "      border-top-color: var(--fill-color);\n",
              "    }\n",
              "    30% {\n",
              "      border-color: transparent;\n",
              "      border-left-color: var(--fill-color);\n",
              "      border-top-color: var(--fill-color);\n",
              "      border-right-color: var(--fill-color);\n",
              "    }\n",
              "    40% {\n",
              "      border-color: transparent;\n",
              "      border-right-color: var(--fill-color);\n",
              "      border-top-color: var(--fill-color);\n",
              "    }\n",
              "    60% {\n",
              "      border-color: transparent;\n",
              "      border-right-color: var(--fill-color);\n",
              "    }\n",
              "    80% {\n",
              "      border-color: transparent;\n",
              "      border-right-color: var(--fill-color);\n",
              "      border-bottom-color: var(--fill-color);\n",
              "    }\n",
              "    90% {\n",
              "      border-color: transparent;\n",
              "      border-bottom-color: var(--fill-color);\n",
              "    }\n",
              "  }\n",
              "</style>\n",
              "\n",
              "  <script>\n",
              "    async function quickchart(key) {\n",
              "      const quickchartButtonEl =\n",
              "        document.querySelector('#' + key + ' button');\n",
              "      quickchartButtonEl.disabled = true;  // To prevent multiple clicks.\n",
              "      quickchartButtonEl.classList.add('colab-df-spinner');\n",
              "      try {\n",
              "        const charts = await google.colab.kernel.invokeFunction(\n",
              "            'suggestCharts', [key], {});\n",
              "      } catch (error) {\n",
              "        console.error('Error during call to suggestCharts:', error);\n",
              "      }\n",
              "      quickchartButtonEl.classList.remove('colab-df-spinner');\n",
              "      quickchartButtonEl.classList.add('colab-df-quickchart-complete');\n",
              "    }\n",
              "    (() => {\n",
              "      let quickchartButtonEl =\n",
              "        document.querySelector('#df-419cdbaf-b878-4776-adf8-59dd7ddeb20b button');\n",
              "      quickchartButtonEl.style.display =\n",
              "        google.colab.kernel.accessAllowed ? 'block' : 'none';\n",
              "    })();\n",
              "  </script>\n",
              "</div>\n",
              "\n",
              "    </div>\n",
              "  </div>\n"
            ],
            "application/vnd.google.colaboratory.intrinsic+json": {
              "type": "dataframe",
              "variable_name": "df",
              "summary": "{\n  \"name\": \"df\",\n  \"rows\": 1075,\n  \"fields\": [\n    {\n      \"column\": \"Image Data ID\",\n      \"properties\": {\n        \"dtype\": \"string\",\n        \"num_unique_values\": 1075,\n        \"samples\": [\n          \"I33396\",\n          \"I52821\",\n          \"I118976\"\n        ],\n        \"semantic_type\": \"\",\n        \"description\": \"\"\n      }\n    },\n    {\n      \"column\": \"Subject\",\n      \"properties\": {\n        \"dtype\": \"string\",\n        \"num_unique_values\": 818,\n        \"samples\": [\n          \"022_S_0004\",\n          \"051_S_1123\",\n          \"005_S_1341\"\n        ],\n        \"semantic_type\": \"\",\n        \"description\": \"\"\n      }\n    },\n    {\n      \"column\": \"Group\",\n      \"properties\": {\n        \"dtype\": \"category\",\n        \"num_unique_values\": 3,\n        \"samples\": [\n          \"MCI\",\n          \"CN\",\n          \"AD\"\n        ],\n        \"semantic_type\": \"\",\n        \"description\": \"\"\n      }\n    },\n    {\n      \"column\": \"Sex\",\n      \"properties\": {\n        \"dtype\": \"category\",\n        \"num_unique_values\": 2,\n        \"samples\": [\n          \"M\",\n          \"F\"\n        ],\n        \"semantic_type\": \"\",\n        \"description\": \"\"\n      }\n    },\n    {\n      \"column\": \"Age\",\n      \"properties\": {\n        \"dtype\": \"number\",\n        \"std\": 6,\n        \"min\": 55,\n        \"max\": 91,\n        \"num_unique_values\": 37,\n        \"samples\": [\n          61,\n          82\n        ],\n        \"semantic_type\": \"\",\n        \"description\": \"\"\n      }\n    },\n    {\n      \"column\": \"Visit\",\n      \"properties\": {\n        \"dtype\": \"category\",\n        \"num_unique_values\": 1,\n        \"samples\": [\n          \"sc\"\n        ],\n        \"semantic_type\": \"\",\n        \"description\": \"\"\n      }\n    },\n    {\n      \"column\": \"Modality\",\n      \"properties\": {\n        \"dtype\": \"category\",\n        \"num_unique_values\": 1,\n        \"samples\": [\n          \"MRI\"\n        ],\n        \"semantic_type\": \"\",\n        \"description\": \"\"\n      }\n    },\n    {\n      \"column\": \"Description\",\n      \"properties\": {\n        \"dtype\": \"category\",\n        \"num_unique_values\": 12,\n        \"samples\": [\n          \"MPR-R; ; N3; Scaled_2\"\n        ],\n        \"semantic_type\": \"\",\n        \"description\": \"\"\n      }\n    },\n    {\n      \"column\": \"Type\",\n      \"properties\": {\n        \"dtype\": \"category\",\n        \"num_unique_values\": 1,\n        \"samples\": [\n          \"Processed\"\n        ],\n        \"semantic_type\": \"\",\n        \"description\": \"\"\n      }\n    },\n    {\n      \"column\": \"Acq Date\",\n      \"properties\": {\n        \"dtype\": \"object\",\n        \"num_unique_values\": 360,\n        \"samples\": [\n          \"8/01/2007\"\n        ],\n        \"semantic_type\": \"\",\n        \"description\": \"\"\n      }\n    },\n    {\n      \"column\": \"Format\",\n      \"properties\": {\n        \"dtype\": \"category\",\n        \"num_unique_values\": 1,\n        \"samples\": [\n          \"NiFTI\"\n        ],\n        \"semantic_type\": \"\",\n        \"description\": \"\"\n      }\n    },\n    {\n      \"column\": \"Downloaded\",\n      \"properties\": {\n        \"dtype\": \"object\",\n        \"num_unique_values\": 6,\n        \"samples\": [\n          \"1/29/2024\"\n        ],\n        \"semantic_type\": \"\",\n        \"description\": \"\"\n      }\n    }\n  ]\n}"
            }
          },
          "metadata": {},
          "execution_count": 19
        }
      ]
    },
    {
      "cell_type": "code",
      "source": [],
      "metadata": {
        "id": "lynNV8hcwJxt"
      },
      "execution_count": 19,
      "outputs": []
    },
    {
      "cell_type": "code",
      "source": [],
      "metadata": {
        "id": "F46LmswNwK_J"
      },
      "execution_count": 19,
      "outputs": []
    },
    {
      "cell_type": "code",
      "source": [
        "# For this example, we assume the DataFrame has columns: 'Group', 'Age', 'Sex', and 'Description'.\n",
        "# Create an input text prompt that combines group, age, and sex\n",
        "def create_prompt(row):\n",
        "    return f\"Group: {row['Group']}. Age: {row['Age']}. Sex: {row['Sex']}.\"\n",
        "\n",
        "# Apply the function to create a new column for the input text\n",
        "df['input_text'] = df.apply(create_prompt, axis=1)\n",
        "\n",
        "# Check the new columns\n",
        "print(df[['input_text', 'Description']].head())\n"
      ],
      "metadata": {
        "colab": {
          "base_uri": "https://localhost:8080/"
        },
        "id": "l8cgL3eboFHs",
        "outputId": "255381d1-453c-4d97-e255-31e0b8e32f20"
      },
      "execution_count": 20,
      "outputs": [
        {
          "output_type": "stream",
          "name": "stdout",
          "text": [
            "                     input_text                                 Description\n",
            "0  Group: MCI. Age: 79. Sex: F.    MPR; GradWarp; B1 Correction; N3; Scaled\n",
            "1  Group: MCI. Age: 72. Sex: F.                         MPR; ; N3; Scaled_2\n",
            "2  Group: MCI. Age: 87. Sex: M.                   MPR; GradWarp; N3; Scaled\n",
            "3  Group: MCI. Age: 84. Sex: M.    MPR; GradWarp; B1 Correction; N3; Scaled\n",
            "4  Group: MCI. Age: 83. Sex: F.  MPR-R; GradWarp; B1 Correction; N3; Scaled\n"
          ]
        }
      ]
    },
    {
      "cell_type": "code",
      "source": [
        "# Split the dataset into train and validation sets (80-20 split)\n",
        "train_df, val_df = train_test_split(df, test_size=0.2, random_state=42)\n",
        "\n",
        "print(\"Training set shape:\", train_df.shape)\n",
        "print(\"Validation set shape:\", val_df.shape)\n"
      ],
      "metadata": {
        "colab": {
          "base_uri": "https://localhost:8080/"
        },
        "id": "GuCOHSlEoppA",
        "outputId": "b70416ad-186d-42c2-af03-86fb57fdc0e8"
      },
      "execution_count": 21,
      "outputs": [
        {
          "output_type": "stream",
          "name": "stdout",
          "text": [
            "Training set shape: (860, 13)\n",
            "Validation set shape: (215, 13)\n"
          ]
        }
      ]
    },
    {
      "cell_type": "code",
      "source": [
        "# Convert the pandas DataFrames to Hugging Face Datasets\n",
        "train_dataset = Dataset.from_pandas(train_df[['input_text', 'Description']])\n",
        "val_dataset = Dataset.from_pandas(val_df[['input_text', 'Description']])\n",
        "\n",
        "print(\"Training dataset:\", train_dataset)\n",
        "print(\"Validation dataset:\", val_dataset)\n"
      ],
      "metadata": {
        "id": "CXFclymiou1I",
        "colab": {
          "base_uri": "https://localhost:8080/"
        },
        "outputId": "e0f87ff2-c84b-402f-959a-50327c0e1a3d"
      },
      "execution_count": 22,
      "outputs": [
        {
          "output_type": "stream",
          "name": "stdout",
          "text": [
            "Training dataset: Dataset({\n",
            "    features: ['input_text', 'Description', '__index_level_0__'],\n",
            "    num_rows: 860\n",
            "})\n",
            "Validation dataset: Dataset({\n",
            "    features: ['input_text', 'Description', '__index_level_0__'],\n",
            "    num_rows: 215\n",
            "})\n"
          ]
        }
      ]
    },
    {
      "cell_type": "code",
      "source": [
        "# Load the pre-trained T5 tokenizer\n",
        "model_name = \"t5-small\"  # You can change this to any other T5 variant (e.g., \"t5-base\", \"t5-large\", etc.)\n",
        "tokenizer = T5Tokenizer.from_pretrained(model_name)\n",
        "\n",
        "# Maximum token lengths for inputs and outputs – adjust if necessary\n",
        "max_input_length = 64\n",
        "max_target_length = 128\n",
        "\n",
        "def preprocess_function(examples):\n",
        "    # Tokenize the input texts (prompts)\n",
        "    model_inputs = tokenizer(examples['input_text'], max_length=max_input_length, truncation=True)\n",
        "\n",
        "    # Tokenize the target texts (descriptions) with labels\n",
        "    with tokenizer.as_target_tokenizer():\n",
        "        labels = tokenizer(examples['Description'], max_length=max_target_length, truncation=True)\n",
        "\n",
        "    # T5 uses -100 as the ignore index for labels\n",
        "    model_inputs[\"labels\"] = labels[\"input_ids\"]\n",
        "    return model_inputs\n",
        "\n",
        "# Apply tokenization to the datasets\n",
        "train_dataset = train_dataset.map(preprocess_function, batched=True)\n",
        "val_dataset = val_dataset.map(preprocess_function, batched=True)\n",
        "\n",
        "# Remove the original columns if desired (for faster training)\n",
        "train_dataset = train_dataset.remove_columns([\"input_text\", \"Description\", \"__index_level_0__\"])\n",
        "val_dataset = val_dataset.remove_columns([\"input_text\", \"Description\", \"__index_level_0__\"])\n"
      ],
      "metadata": {
        "colab": {
          "base_uri": "https://localhost:8080/",
          "height": 137,
          "referenced_widgets": [
            "cbfd15f1a25b4921b9c20a95e333c62f",
            "0f8ed109e697407aa1d709cb50cf5b9b",
            "a1e6c5e18b304d3d9736cbfde5815555",
            "f31fa58fb8d440de8a1bfa5d67a1a858",
            "935da047e5724faf98c7f68dc9979441",
            "3b60914648644bca878d9213861a7f23",
            "d5ff4654bcdd45479522a1589a552cb9",
            "3b823435e7f54222a78f63d3ff232a79",
            "8cd3e44df59a414ca5e787049fe8506d",
            "41ea1ca7d3fc4867b9d1a0feac987fd8",
            "f7ddf7bbbcd9409b806a612ff3c0b2cb",
            "475a4ed39b034ef98003876b357a5959",
            "ab2e2b59a27d4f62931d23518de84653",
            "e95823a59d4b4c1dae40db7ff55fb256",
            "072f57ac2cf54365b9937bee6fb7eb0c",
            "d5c6800d2bb34b4a8da8334dc5bd9d06",
            "4d2108d0ed81494b8489e731f85b1cc8",
            "e6dcc17b73cc4a198d4909a8bad77b92",
            "b063a60e07104c42a87c377dcfa02f01",
            "bf0cfb0843fd4e03944e2e10fbc57714",
            "dffb755f003b413eb8ffe4af97b22d7e",
            "320bc051296640ce966e6000d16eb1ad"
          ]
        },
        "id": "n-csX0K4o0rq",
        "outputId": "be715341-0cea-42eb-8e1e-231d5ce7b971"
      },
      "execution_count": 23,
      "outputs": [
        {
          "output_type": "display_data",
          "data": {
            "text/plain": [
              "Map:   0%|          | 0/860 [00:00<?, ? examples/s]"
            ],
            "application/vnd.jupyter.widget-view+json": {
              "version_major": 2,
              "version_minor": 0,
              "model_id": "cbfd15f1a25b4921b9c20a95e333c62f"
            }
          },
          "metadata": {}
        },
        {
          "output_type": "stream",
          "name": "stderr",
          "text": [
            "/usr/local/lib/python3.11/dist-packages/transformers/tokenization_utils_base.py:3961: UserWarning: `as_target_tokenizer` is deprecated and will be removed in v5 of Transformers. You can tokenize your labels by using the argument `text_target` of the regular `__call__` method (either in the same call as your input texts if you use the same keyword arguments, or in a separate call.\n",
            "  warnings.warn(\n"
          ]
        },
        {
          "output_type": "display_data",
          "data": {
            "text/plain": [
              "Map:   0%|          | 0/215 [00:00<?, ? examples/s]"
            ],
            "application/vnd.jupyter.widget-view+json": {
              "version_major": 2,
              "version_minor": 0,
              "model_id": "475a4ed39b034ef98003876b357a5959"
            }
          },
          "metadata": {}
        }
      ]
    },
    {
      "cell_type": "code",
      "source": [
        "# Load T5 model for conditional generation\n",
        "model = T5ForConditionalGeneration.from_pretrained(model_name)\n",
        "print(f\"Model {model_name} loaded successfully!\")\n"
      ],
      "metadata": {
        "id": "O2I6X_33pB-Q",
        "colab": {
          "base_uri": "https://localhost:8080/"
        },
        "outputId": "ac3a26ae-e80e-4ab5-aeda-789b6c0f3947"
      },
      "execution_count": 24,
      "outputs": [
        {
          "output_type": "stream",
          "name": "stdout",
          "text": [
            "Model t5-small loaded successfully!\n"
          ]
        }
      ]
    },
    {
      "cell_type": "code",
      "source": [
        "from transformers import DataCollatorForSeq2Seq\n",
        "data_collator = DataCollatorForSeq2Seq(tokenizer, model=model)\n",
        "\n",
        "import transformers\n",
        "print(\"Transformers version:\", transformers.__version__)\n"
      ],
      "metadata": {
        "id": "_D7Li2VopHZv",
        "colab": {
          "base_uri": "https://localhost:8080/"
        },
        "outputId": "71fc4bcb-bb87-40f0-8c4e-74e2c4ae59ce"
      },
      "execution_count": 25,
      "outputs": [
        {
          "output_type": "stream",
          "name": "stdout",
          "text": [
            "Transformers version: 4.48.3\n"
          ]
        }
      ]
    },
    {
      "cell_type": "code",
      "source": [
        "import transformers\n",
        "print(transformers.__version__)\n"
      ],
      "metadata": {
        "colab": {
          "base_uri": "https://localhost:8080/"
        },
        "id": "HyQivUt0pKZ7",
        "outputId": "991d6da1-cb8f-4d33-ad70-d57457bb63aa"
      },
      "execution_count": 26,
      "outputs": [
        {
          "output_type": "stream",
          "name": "stdout",
          "text": [
            "4.48.3\n"
          ]
        }
      ]
    },
    {
      "cell_type": "code",
      "source": [
        "# We’ll enable early stopping by specifying 'load_best_model_at_end' and a 'metric_for_best_model'\n",
        "# The example here monitors 'eval_loss' (you could also monitor a custom metric like ROUGE or BLEU)\n",
        "training_args = Seq2SeqTrainingArguments(\n",
        "    output_dir=\"./t5_finetuned_adni\",\n",
        "    evaluation_strategy=\"steps\",     # or \"epoch\" if you prefer\n",
        "    eval_steps=100,                  # Evaluate every 100 steps\n",
        "    logging_steps=50,\n",
        "    save_steps=200,\n",
        "    num_train_epochs=3,             # Increase if needed\n",
        "    per_device_train_batch_size=8,   # Adjust based on GPU memory\n",
        "    per_device_eval_batch_size=8,\n",
        "    learning_rate=5e-5,\n",
        "    weight_decay=0.01,\n",
        "    save_total_limit=2,\n",
        "    predict_with_generate=True,\n",
        "    fp16=torch.cuda.is_available(),  # Use mixed precision if GPU is available\n",
        "\n",
        "    # Early stopping & best model\n",
        "    load_best_model_at_end=True,\n",
        "    metric_for_best_model=\"eval_loss\",\n",
        "    greater_is_better=False,          # Because lower eval_loss is better\n",
        ")\n"
      ],
      "metadata": {
        "colab": {
          "base_uri": "https://localhost:8080/"
        },
        "id": "IpsG5xtipeAy",
        "outputId": "49fbb0c1-6797-4617-f87c-7dcd145e7c36"
      },
      "execution_count": 27,
      "outputs": [
        {
          "output_type": "stream",
          "name": "stderr",
          "text": [
            "/usr/local/lib/python3.11/dist-packages/transformers/training_args.py:1575: FutureWarning: `evaluation_strategy` is deprecated and will be removed in version 4.46 of 🤗 Transformers. Use `eval_strategy` instead\n",
            "  warnings.warn(\n"
          ]
        }
      ]
    },
    {
      "cell_type": "code",
      "source": [
        "def compute_metrics(eval_pred):\n",
        "    predictions, labels = eval_pred\n",
        "\n",
        "    if isinstance(predictions, tuple):\n",
        "        predictions = predictions[0]\n",
        "\n",
        "    predictions = np.array(predictions)\n",
        "    if predictions.ndim == 3:\n",
        "        predictions = predictions[:, 0, :]\n",
        "\n",
        "    # Clip predictions to valid range [0, vocab_size - 1]\n",
        "    predictions = np.clip(predictions, 0, tokenizer.vocab_size - 1)\n",
        "\n",
        "    # Replace -100 in labels with the pad token id\n",
        "    labels = np.where(labels != -100, labels, tokenizer.pad_token_id)\n",
        "\n",
        "    decoded_preds = tokenizer.batch_decode(predictions, skip_special_tokens=True)\n",
        "    decoded_labels = tokenizer.batch_decode(labels, skip_special_tokens=True)\n",
        "\n",
        "    bleu_results = bleu_metric.compute(\n",
        "        predictions=decoded_preds,\n",
        "        references=[[l] for l in decoded_labels]\n",
        "    )\n",
        "    rouge_results = rouge_metric.compute(\n",
        "        predictions=decoded_preds,\n",
        "        references=decoded_labels\n",
        "    )\n",
        "\n",
        "    result = {\n",
        "        \"bleu\": bleu_results[\"bleu\"],\n",
        "        \"rouge1\": rouge_results[\"rouge1\"],\n",
        "        \"rouge2\": rouge_results[\"rouge2\"],\n",
        "        \"rougeL\": rouge_results[\"rougeL\"],\n",
        "        \"rougeLsum\": rouge_results[\"rougeLsum\"]\n",
        "    }\n",
        "    return result\n"
      ],
      "metadata": {
        "id": "gZJdBWQPrWSA"
      },
      "execution_count": 29,
      "outputs": []
    },
    {
      "cell_type": "code",
      "source": [
        "# Start training – this may take some time depending on dataset size and hardware\n",
        "train_result = trainer.train()\n",
        "\n",
        "# Trainer saves the best model at the end if 'load_best_model_at_end=True'\n",
        "# You can also explicitly save the model here if desired:\n",
        "# trainer.save_model(\"./t5_finetuned_adni_best\")\n",
        "\n",
        "# Print training stats\n",
        "print(\"Training completed. Metrics:\")\n",
        "print(train_result.metrics)\n"
      ],
      "metadata": {
        "colab": {
          "base_uri": "https://localhost:8080/",
          "height": 339
        },
        "id": "St45-KZysUY4",
        "outputId": "9627b8f2-13e9-4e4a-fb72-08527479597e"
      },
      "execution_count": 30,
      "outputs": [
        {
          "output_type": "display_data",
          "data": {
            "text/plain": [
              "<IPython.core.display.HTML object>"
            ],
            "text/html": [
              "\n",
              "    <div>\n",
              "      \n",
              "      <progress value='324' max='324' style='width:300px; height:20px; vertical-align: middle;'></progress>\n",
              "      [324/324 01:20, Epoch 3/3]\n",
              "    </div>\n",
              "    <table border=\"1\" class=\"dataframe\">\n",
              "  <thead>\n",
              " <tr style=\"text-align: left;\">\n",
              "      <th>Step</th>\n",
              "      <th>Training Loss</th>\n",
              "      <th>Validation Loss</th>\n",
              "      <th>Bleu</th>\n",
              "      <th>Rouge1</th>\n",
              "      <th>Rouge2</th>\n",
              "      <th>Rougel</th>\n",
              "      <th>Rougelsum</th>\n",
              "    </tr>\n",
              "  </thead>\n",
              "  <tbody>\n",
              "    <tr>\n",
              "      <td>100</td>\n",
              "      <td>0.253800</td>\n",
              "      <td>0.160404</td>\n",
              "      <td>0.793989</td>\n",
              "      <td>0.877606</td>\n",
              "      <td>0.732628</td>\n",
              "      <td>0.877413</td>\n",
              "      <td>0.877046</td>\n",
              "    </tr>\n",
              "    <tr>\n",
              "      <td>200</td>\n",
              "      <td>0.201300</td>\n",
              "      <td>0.141484</td>\n",
              "      <td>0.793989</td>\n",
              "      <td>0.877606</td>\n",
              "      <td>0.732628</td>\n",
              "      <td>0.877413</td>\n",
              "      <td>0.877046</td>\n",
              "    </tr>\n",
              "    <tr>\n",
              "      <td>300</td>\n",
              "      <td>0.180800</td>\n",
              "      <td>0.149668</td>\n",
              "      <td>0.793989</td>\n",
              "      <td>0.877606</td>\n",
              "      <td>0.732628</td>\n",
              "      <td>0.877413</td>\n",
              "      <td>0.877046</td>\n",
              "    </tr>\n",
              "  </tbody>\n",
              "</table><p>"
            ]
          },
          "metadata": {}
        },
        {
          "output_type": "display_data",
          "data": {
            "text/plain": [
              "<IPython.core.display.HTML object>"
            ],
            "text/html": [
              "\n",
              "    <div>\n",
              "      \n",
              "      <progress value='101' max='324' style='width:300px; height:20px; vertical-align: middle;'></progress>\n",
              "      [101/324 00:17 < 00:38, 5.80 it/s, Epoch 0.93/3]\n",
              "    </div>\n",
              "    <table border=\"1\" class=\"dataframe\">\n",
              "  <thead>\n",
              " <tr style=\"text-align: left;\">\n",
              "      <th>Step</th>\n",
              "      <th>Training Loss</th>\n",
              "      <th>Validation Loss</th>\n",
              "    </tr>\n",
              "  </thead>\n",
              "  <tbody>\n",
              "  </tbody>\n",
              "</table><p>\n",
              "    <div>\n",
              "      \n",
              "      <progress value='54' max='27' style='width:300px; height:20px; vertical-align: middle;'></progress>\n",
              "      [27/27 03:01]\n",
              "    </div>\n",
              "    "
            ]
          },
          "metadata": {}
        },
        {
          "output_type": "stream",
          "name": "stderr",
          "text": [
            "There were missing keys in the checkpoint model loaded: ['encoder.embed_tokens.weight', 'decoder.embed_tokens.weight', 'lm_head.weight'].\n"
          ]
        },
        {
          "output_type": "stream",
          "name": "stdout",
          "text": [
            "Training completed. Metrics:\n",
            "{'train_runtime': 80.8189, 'train_samples_per_second': 31.923, 'train_steps_per_second': 4.009, 'total_flos': 10911932743680.0, 'train_loss': 0.23389334590346725, 'epoch': 3.0}\n"
          ]
        }
      ]
    },
    {
      "cell_type": "code",
      "source": [
        "# Evaluate the model on the validation set\n",
        "eval_results = trainer.evaluate()\n",
        "\n",
        "# If we want to compute perplexity from eval_loss (if it exists)\n",
        "perplexity = None\n",
        "if eval_results.get(\"eval_loss\") is not None:\n",
        "    perplexity = math.exp(eval_results[\"eval_loss\"])\n",
        "\n",
        "eval_results[\"perplexity\"] = perplexity\n",
        "\n",
        "print(\"Evaluation Results:\")\n",
        "for key, value in eval_results.items():\n",
        "    print(f\"  {key}: {value}\")\n"
      ],
      "metadata": {
        "colab": {
          "base_uri": "https://localhost:8080/",
          "height": 251
        },
        "id": "X44NJNAuwMT4",
        "outputId": "46acb582-e7e4-4b31-dd86-ae0f2338ecf2"
      },
      "execution_count": 31,
      "outputs": [
        {
          "output_type": "display_data",
          "data": {
            "text/plain": [
              "<IPython.core.display.HTML object>"
            ],
            "text/html": [
              "\n",
              "    <div>\n",
              "      \n",
              "      <progress value='27' max='27' style='width:300px; height:20px; vertical-align: middle;'></progress>\n",
              "      [27/27 00:10]\n",
              "    </div>\n",
              "    "
            ]
          },
          "metadata": {}
        },
        {
          "output_type": "stream",
          "name": "stdout",
          "text": [
            "Evaluation Results:\n",
            "  eval_loss: 0.14148417115211487\n",
            "  eval_bleu: 0.7939886729930983\n",
            "  eval_rouge1: 0.8776061148154175\n",
            "  eval_rouge2: 0.7326279405349172\n",
            "  eval_rougeL: 0.8774126648545252\n",
            "  eval_rougeLsum: 0.8770455900688459\n",
            "  eval_runtime: 12.3539\n",
            "  eval_samples_per_second: 17.403\n",
            "  eval_steps_per_second: 2.186\n",
            "  epoch: 3.0\n",
            "  perplexity: 1.1519822695643804\n"
          ]
        }
      ]
    },
    {
      "cell_type": "code",
      "source": [
        "def generate_prediction(example):\n",
        "    input_ids = tokenizer(\n",
        "        example['input_text'],\n",
        "        return_tensors=\"pt\",\n",
        "        truncation=True,\n",
        "        max_length=max_input_length\n",
        "    ).input_ids\n",
        "    input_ids = input_ids.to(model.device)\n",
        "    outputs = model.generate(\n",
        "        input_ids,\n",
        "        max_length=max_target_length,\n",
        "        num_beams=4,\n",
        "        early_stopping=True\n",
        "    )\n",
        "    prediction = tokenizer.decode(outputs[0], skip_special_tokens=True)\n",
        "    return prediction\n",
        "\n",
        "# Select a few samples for demonstration\n",
        "samples = val_df[['input_text', 'Description']].head(5)\n",
        "\n",
        "for idx, row in samples.iterrows():\n",
        "    pred = generate_prediction({\"input_text\": row['input_text']})\n",
        "    print(f\"Input: {row['input_text']}\")\n",
        "    print(f\"Ground Truth: {row['Description']}\")\n",
        "    print(f\"Prediction: {pred}\\n\")\n"
      ],
      "metadata": {
        "colab": {
          "base_uri": "https://localhost:8080/"
        },
        "id": "pk4kaGo1wZTa",
        "outputId": "29b857ec-0a15-4284-8cbe-5f616fffa871"
      },
      "execution_count": 32,
      "outputs": [
        {
          "output_type": "stream",
          "name": "stdout",
          "text": [
            "Input: Group: MCI. Age: 81. Sex: M.\n",
            "Ground Truth: MPR; GradWarp; N3; Scaled\n",
            "Prediction: MPR; ; N3; Scaled_2\n",
            "\n",
            "Input: Group: MCI. Age: 61. Sex: F.\n",
            "Ground Truth: MPR; GradWarp; B1 Correction; N3; Scaled\n",
            "Prediction: MPR; ; N3; Scaled_2\n",
            "\n",
            "Input: Group: MCI. Age: 71. Sex: M.\n",
            "Ground Truth: MPR; GradWarp; B1 Correction; N3; Scaled_2\n",
            "Prediction: MPR; ; N3; Scaled_2\n",
            "\n",
            "Input: Group: MCI. Age: 80. Sex: M.\n",
            "Ground Truth: MPR; GradWarp; B1 Correction; N3; Scaled\n",
            "Prediction: MPR; ; N3; Scaled_2\n",
            "\n",
            "Input: Group: MCI. Age: 70. Sex: M.\n",
            "Ground Truth: MPR-R; GradWarp; N3; Scaled\n",
            "Prediction: MPR; ; N3; Scaled_2\n",
            "\n"
          ]
        }
      ]
    },
    {
      "cell_type": "code",
      "source": [
        "# Save the model and tokenizer to the output directory for later use\n",
        "model.save_pretrained(\"./t5_finetuned_adni\")\n",
        "tokenizer.save_pretrained(\"./t5_finetuned_adni\")\n",
        "print(\"Model and tokenizer saved successfully!\")\n"
      ],
      "metadata": {
        "colab": {
          "base_uri": "https://localhost:8080/"
        },
        "id": "05dL-55uwhtb",
        "outputId": "777d4e37-e3b3-4226-ec9f-68d6ace6c8e9"
      },
      "execution_count": 33,
      "outputs": [
        {
          "output_type": "stream",
          "name": "stdout",
          "text": [
            "Model and tokenizer saved successfully!\n"
          ]
        }
      ]
    },
    {
      "cell_type": "code",
      "source": [],
      "metadata": {
        "id": "jTonPON5xAv-"
      },
      "execution_count": null,
      "outputs": []
    }
  ]
}